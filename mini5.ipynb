{
  "nbformat": 4,
  "nbformat_minor": 0,
  "metadata": {
    "colab": {
      "name": "mini5.ipynb",
      "provenance": [],
      "authorship_tag": "ABX9TyM5hznUnVS5j0tsPw5HQVDg",
      "include_colab_link": true
    },
    "kernelspec": {
      "name": "python3",
      "display_name": "Python 3"
    },
    "language_info": {
      "name": "python"
    }
  },
  "cells": [
    {
      "cell_type": "markdown",
      "metadata": {
        "id": "view-in-github",
        "colab_type": "text"
      },
      "source": [
        "<a href=\"https://colab.research.google.com/github/harshitha008/Face_Recognition/blob/main/mini5.ipynb\" target=\"_parent\"><img src=\"https://colab.research.google.com/assets/colab-badge.svg\" alt=\"Open In Colab\"/></a>"
      ]
    },
    {
      "cell_type": "code",
      "metadata": {
        "id": "7bx2aai4kvf7"
      },
      "source": [
        "from google.colab import drive"
      ],
      "execution_count": null,
      "outputs": []
    },
    {
      "cell_type": "code",
      "metadata": {
        "colab": {
          "base_uri": "https://localhost:8080/"
        },
        "id": "hXjt5xsQk5-n",
        "outputId": "29c9f34e-7473-4e45-fb2d-df23b6c6584e"
      },
      "source": [
        "drive.mount('/content/drive')"
      ],
      "execution_count": null,
      "outputs": [
        {
          "output_type": "stream",
          "text": [
            "Mounted at /content/drive\n"
          ],
          "name": "stdout"
        }
      ]
    },
    {
      "cell_type": "code",
      "metadata": {
        "colab": {
          "base_uri": "https://localhost:8080/"
        },
        "id": "-24QTLzelGua",
        "outputId": "e2710961-6fc0-4b9c-e49b-9a08fafa7372"
      },
      "source": [
        "# Deep Learning CNN model to recognize face\n",
        " \n",
        "# Specifying the folder where images are present\n",
        "TrainingImagePath='/content/drive/MyDrive/database/train'\n",
        " \n",
        "from keras.preprocessing.image import ImageDataGenerator\n",
        " \n",
        "# Defining pre-processing transformations on raw images of training data\n",
        "# These hyper parameters helps to generate slightly twisted versions\n",
        "# of the original image, which leads to a better model, since it learns\n",
        "# on the good and bad mix of images\n",
        "train_datagen = ImageDataGenerator(\n",
        "        shear_range=0.1,\n",
        "        zoom_range=0.1,\n",
        "        horizontal_flip=True)\n",
        " \n",
        "# Defining pre-processing transformations on raw images of testing data\n",
        "# No transformations are done on the testing images\n",
        "test_datagen = ImageDataGenerator()\n",
        " \n",
        "# Generating the Training Data\n",
        "training_set = train_datagen.flow_from_directory(\n",
        "        TrainingImagePath,\n",
        "        target_size=(64, 64),\n",
        "        batch_size=32,\n",
        "        class_mode='categorical')\n",
        " \n",
        " \n",
        "# Generating the Testing Data\n",
        "test_set = test_datagen.flow_from_directory(\n",
        "        TrainingImagePath,\n",
        "        target_size=(64, 64),\n",
        "        batch_size=32,\n",
        "        class_mode='categorical')\n",
        " \n",
        "# Printing class labels for each face\n",
        "test_set.class_indices\n"
      ],
      "execution_count": null,
      "outputs": [
        {
          "output_type": "stream",
          "text": [
            "Found 164 images belonging to 7 classes.\n",
            "Found 164 images belonging to 7 classes.\n"
          ],
          "name": "stdout"
        },
        {
          "output_type": "execute_result",
          "data": {
            "text/plain": [
              "{'Aditi': 0,\n",
              " 'Aishu': 1,\n",
              " 'Chamu': 2,\n",
              " 'Sathvika': 3,\n",
              " 'face1': 4,\n",
              " 'face2': 5,\n",
              " 'face3': 6}"
            ]
          },
          "metadata": {
            "tags": []
          },
          "execution_count": 3
        }
      ]
    },
    {
      "cell_type": "code",
      "metadata": {
        "colab": {
          "base_uri": "https://localhost:8080/"
        },
        "id": "Sat-e3pLleuo",
        "outputId": "aabb09b5-28d5-42fc-9270-3c12d237abac"
      },
      "source": [
        "\n",
        "# class_indices have the numeric tag for each face\n",
        "TrainClasses=training_set.class_indices\n",
        "\n",
        "# Storing the face and the numeric tag for future reference\n",
        "ResultMap={}\n",
        "for faceValue,faceName in zip(TrainClasses.values(),TrainClasses.keys()):\n",
        "    ResultMap[faceValue]=faceName\n",
        "\n",
        "# Saving the face map for future reference\n",
        "import pickle\n",
        "with open(\"ResultsMap.pkl\", 'wb') as fileWriteStream:\n",
        "    pickle.dump(ResultMap, fileWriteStream)\n",
        "\n",
        "# The model will give answer as a numeric tag\n",
        "# This mapping will help to get the corresponding face name for it\n",
        "print(\"Mapping of Face and its ID\",ResultMap)\n",
        "\n",
        "# The number of neurons for the output layer is equal to the number of faces\n",
        "OutputNeurons=len(ResultMap)\n",
        "print('\\n The Number of output neurons: ', OutputNeurons)"
      ],
      "execution_count": null,
      "outputs": [
        {
          "output_type": "stream",
          "text": [
            "Mapping of Face and its ID {0: 'Aditi', 1: 'Aishu', 2: 'Chamu', 3: 'Sathvika', 4: 'face1', 5: 'face2', 6: 'face3'}\n",
            "\n",
            " The Number of output neurons:  7\n"
          ],
          "name": "stdout"
        }
      ]
    },
    {
      "cell_type": "code",
      "metadata": {
        "colab": {
          "base_uri": "https://localhost:8080/"
        },
        "id": "UFe67lT7l2xR",
        "outputId": "fdad1de0-80c2-4373-b846-6a1088cf8c35"
      },
      "source": [
        "\n",
        "from keras.models import Sequential\n",
        "from keras.layers import Convolution2D\n",
        "from keras.layers import MaxPool2D\n",
        "from keras.layers import Flatten\n",
        "from keras.layers import Dense\n",
        "\n",
        "'''Initializing the Convolutional Neural Network'''\n",
        "classifier= Sequential()\n",
        "\n",
        "''' STEP--1 Convolution\n",
        "# Adding the first layer of CNN\n",
        "# we are using the format (64,64,3) because we are using TensorFlow backend\n",
        "# It means 3 matrix of size (64X64) pixels representing Red, Green and Blue components of pixels\n",
        "'''\n",
        "classifier.add(Convolution2D(32, kernel_size=(5, 5), strides=(1, 1), input_shape=(64,64,3), activation='relu'))\n",
        "\n",
        "'''# STEP--2 MAX Pooling'''\n",
        "classifier.add(MaxPool2D(pool_size=(2,2)))\n",
        "\n",
        "'''############## ADDITIONAL LAYER of CONVOLUTION for better accuracy #################'''\n",
        "classifier.add(Convolution2D(64, kernel_size=(5, 5), strides=(1, 1), activation='relu'))\n",
        "\n",
        "classifier.add(MaxPool2D(pool_size=(2,2)))\n",
        "\n",
        "classifier.add(Convolution2D(64, kernel_size=(5, 5), strides=(1, 1), activation='relu'))\n",
        "\n",
        "classifier.add(MaxPool2D(pool_size=(2,2)))\n",
        "\n",
        "'''# STEP--3 FLattening'''\n",
        "classifier.add(Flatten())\n",
        "\n",
        "'''# STEP--4 Fully Connected Neural Network'''\n",
        "classifier.add(Dense(64, activation='relu'))\n",
        "\n",
        "classifier.add(Dense(OutputNeurons, activation='softmax'))\n",
        "\n",
        "'''# Compiling the CNN'''\n",
        "#classifier.compile(loss='binary_crossentropy', optimizer='adam', metrics=['accuracy'])\n",
        "classifier.compile(loss='categorical_crossentropy', optimizer = 'adam', metrics=[\"accuracy\"])\n",
        "\n",
        "###########################################################\n",
        "import time\n",
        "# Measuring the time taken by the model to train\n",
        "StartTime=time.time()\n",
        "\n",
        "# Starting the model training\n",
        "classifier.fit_generator(\n",
        "                    training_set,\n",
        "                    steps_per_epoch=4,\n",
        "                    epochs=80,\n",
        "                    validation_data=test_set,\n",
        "                    validation_steps=10)\n",
        "\n",
        "EndTime=time.time()\n",
        "print(\"###### Total Time Taken: \", round((EndTime-StartTime)/60), 'Minutes ######')"
      ],
      "execution_count": null,
      "outputs": [
        {
          "output_type": "stream",
          "text": [
            "/usr/local/lib/python3.7/dist-packages/tensorflow/python/keras/engine/training.py:1844: UserWarning: `Model.fit_generator` is deprecated and will be removed in a future version. Please use `Model.fit`, which supports generators.\n",
            "  warnings.warn('`Model.fit_generator` is deprecated and '\n"
          ],
          "name": "stderr"
        },
        {
          "output_type": "stream",
          "text": [
            "Epoch 1/60\n",
            "5/5 [==============================] - ETA: 0s - loss: 53.7228 - accuracy: 0.1161WARNING:tensorflow:Your input ran out of data; interrupting training. Make sure that your dataset or generator can generate at least `steps_per_epoch * epochs` batches (in this case, 10 batches). You may need to use the repeat() function when building your dataset.\n",
            "5/5 [==============================] - 14s 3s/step - loss: 53.5074 - accuracy: 0.1145 - val_loss: 14.3524 - val_accuracy: 0.0976\n",
            "Epoch 2/60\n",
            "5/5 [==============================] - 6s 1s/step - loss: 9.1371 - accuracy: 0.1258\n",
            "Epoch 3/60\n",
            "5/5 [==============================] - 6s 1s/step - loss: 2.3020 - accuracy: 0.1861\n",
            "Epoch 4/60\n",
            "5/5 [==============================] - 6s 2s/step - loss: 2.1241 - accuracy: 0.0952\n",
            "Epoch 5/60\n",
            "5/5 [==============================] - 6s 1s/step - loss: 1.8791 - accuracy: 0.1639\n",
            "Epoch 6/60\n",
            "5/5 [==============================] - 7s 1s/step - loss: 1.7489 - accuracy: 0.2245\n",
            "Epoch 7/60\n",
            "5/5 [==============================] - 6s 805ms/step - loss: 1.7920 - accuracy: 0.2962\n",
            "Epoch 8/60\n",
            "5/5 [==============================] - 7s 1s/step - loss: 1.6209 - accuracy: 0.2825\n",
            "Epoch 9/60\n",
            "5/5 [==============================] - 7s 1s/step - loss: 1.5685 - accuracy: 0.3358\n",
            "Epoch 10/60\n",
            "5/5 [==============================] - 7s 1s/step - loss: 1.5640 - accuracy: 0.3952\n",
            "Epoch 11/60\n",
            "5/5 [==============================] - 7s 1s/step - loss: 1.4626 - accuracy: 0.4334\n",
            "Epoch 12/60\n",
            "5/5 [==============================] - 6s 1s/step - loss: 1.4128 - accuracy: 0.4391\n",
            "Epoch 13/60\n",
            "5/5 [==============================] - 6s 1s/step - loss: 1.3908 - accuracy: 0.4295\n",
            "Epoch 14/60\n",
            "5/5 [==============================] - 6s 1s/step - loss: 1.2362 - accuracy: 0.4737\n",
            "Epoch 15/60\n",
            "5/5 [==============================] - 6s 1s/step - loss: 1.0851 - accuracy: 0.5738\n",
            "Epoch 16/60\n",
            "5/5 [==============================] - 6s 1s/step - loss: 1.1258 - accuracy: 0.5138\n",
            "Epoch 17/60\n",
            "5/5 [==============================] - 6s 1s/step - loss: 1.0905 - accuracy: 0.5528\n",
            "Epoch 18/60\n",
            "5/5 [==============================] - 6s 1s/step - loss: 1.1781 - accuracy: 0.4682\n",
            "Epoch 19/60\n",
            "5/5 [==============================] - 6s 1s/step - loss: 1.1539 - accuracy: 0.5686\n",
            "Epoch 20/60\n",
            "5/5 [==============================] - 5s 872ms/step - loss: 1.1879 - accuracy: 0.5959\n",
            "Epoch 21/60\n",
            "5/5 [==============================] - 6s 1s/step - loss: 0.8629 - accuracy: 0.6983\n",
            "Epoch 22/60\n",
            "5/5 [==============================] - 6s 1s/step - loss: 0.8316 - accuracy: 0.6812\n",
            "Epoch 23/60\n",
            "5/5 [==============================] - 6s 1s/step - loss: 0.6501 - accuracy: 0.7628\n",
            "Epoch 24/60\n",
            "5/5 [==============================] - 6s 1s/step - loss: 0.7121 - accuracy: 0.6885\n",
            "Epoch 25/60\n",
            "5/5 [==============================] - 6s 1s/step - loss: 0.6888 - accuracy: 0.6956\n",
            "Epoch 26/60\n",
            "5/5 [==============================] - 6s 1s/step - loss: 0.6167 - accuracy: 0.7482\n",
            "Epoch 27/60\n",
            "5/5 [==============================] - 6s 1s/step - loss: 0.6959 - accuracy: 0.6890\n",
            "Epoch 28/60\n",
            "5/5 [==============================] - 7s 1s/step - loss: 0.5958 - accuracy: 0.7624\n",
            "Epoch 29/60\n",
            "5/5 [==============================] - 6s 1s/step - loss: 0.4279 - accuracy: 0.8701\n",
            "Epoch 30/60\n",
            "5/5 [==============================] - 6s 1s/step - loss: 0.6074 - accuracy: 0.7635\n",
            "Epoch 31/60\n",
            "5/5 [==============================] - 7s 1s/step - loss: 0.5196 - accuracy: 0.8182\n",
            "Epoch 32/60\n",
            "5/5 [==============================] - 6s 928ms/step - loss: 0.4829 - accuracy: 0.8023\n",
            "Epoch 33/60\n",
            "5/5 [==============================] - 7s 1s/step - loss: 0.4464 - accuracy: 0.8701\n",
            "Epoch 34/60\n",
            "5/5 [==============================] - 6s 1s/step - loss: 0.5410 - accuracy: 0.7896\n",
            "Epoch 35/60\n",
            "5/5 [==============================] - 6s 1s/step - loss: 0.4728 - accuracy: 0.8044\n",
            "Epoch 36/60\n",
            "5/5 [==============================] - 6s 909ms/step - loss: 0.3958 - accuracy: 0.9096\n",
            "Epoch 37/60\n",
            "5/5 [==============================] - 7s 1s/step - loss: 0.2689 - accuracy: 0.9042\n",
            "Epoch 38/60\n",
            "5/5 [==============================] - 7s 1s/step - loss: 0.2308 - accuracy: 0.9259\n",
            "Epoch 39/60\n",
            "5/5 [==============================] - 6s 748ms/step - loss: 0.3073 - accuracy: 0.8945\n",
            "Epoch 40/60\n",
            "5/5 [==============================] - 6s 1s/step - loss: 0.2645 - accuracy: 0.9032\n",
            "Epoch 41/60\n",
            "5/5 [==============================] - 6s 2s/step - loss: 0.3233 - accuracy: 0.8652\n",
            "Epoch 42/60\n",
            "5/5 [==============================] - 6s 1s/step - loss: 0.3636 - accuracy: 0.8634\n",
            "Epoch 43/60\n",
            "5/5 [==============================] - 6s 995ms/step - loss: 0.3421 - accuracy: 0.8772\n",
            "Epoch 44/60\n",
            "5/5 [==============================] - 6s 1s/step - loss: 0.2836 - accuracy: 0.9422\n",
            "Epoch 45/60\n",
            "5/5 [==============================] - 6s 2s/step - loss: 0.1959 - accuracy: 0.9691\n",
            "Epoch 46/60\n",
            "5/5 [==============================] - 6s 1s/step - loss: 0.1732 - accuracy: 0.9659\n",
            "Epoch 47/60\n",
            "5/5 [==============================] - 6s 1s/step - loss: 0.1526 - accuracy: 0.9585\n",
            "Epoch 48/60\n",
            "5/5 [==============================] - 6s 1s/step - loss: 0.1728 - accuracy: 0.9521\n",
            "Epoch 49/60\n",
            "5/5 [==============================] - 7s 1s/step - loss: 0.1208 - accuracy: 0.9665\n",
            "Epoch 50/60\n",
            "5/5 [==============================] - 6s 1s/step - loss: 0.0983 - accuracy: 0.9918\n",
            "Epoch 51/60\n",
            "5/5 [==============================] - 6s 1s/step - loss: 0.1590 - accuracy: 0.9684\n",
            "Epoch 52/60\n",
            "5/5 [==============================] - 5s 1s/step - loss: 0.1535 - accuracy: 0.9568\n",
            "Epoch 53/60\n",
            "5/5 [==============================] - 6s 1s/step - loss: 0.1116 - accuracy: 0.9666\n",
            "Epoch 54/60\n",
            "5/5 [==============================] - 5s 733ms/step - loss: 0.1303 - accuracy: 0.9532\n",
            "Epoch 55/60\n",
            "5/5 [==============================] - 6s 1s/step - loss: 0.3424 - accuracy: 0.8566\n",
            "Epoch 56/60\n",
            "5/5 [==============================] - 7s 1s/step - loss: 0.5799 - accuracy: 0.7878\n",
            "Epoch 57/60\n",
            "5/5 [==============================] - 6s 924ms/step - loss: 0.6913 - accuracy: 0.7824\n",
            "Epoch 58/60\n",
            "5/5 [==============================] - 6s 1s/step - loss: 0.5757 - accuracy: 0.8198\n",
            "Epoch 59/60\n",
            "5/5 [==============================] - 6s 1s/step - loss: 0.3773 - accuracy: 0.8844\n",
            "Epoch 60/60\n",
            "5/5 [==============================] - 7s 1s/step - loss: 0.2261 - accuracy: 0.9377\n",
            "###### Total Time Taken:  7 Minutes ######\n"
          ],
          "name": "stdout"
        }
      ]
    },
    {
      "cell_type": "code",
      "metadata": {
        "colab": {
          "base_uri": "https://localhost:8080/"
        },
        "id": "uxFS9ooMmrMU",
        "outputId": "0199173d-1bfa-4c8c-ca7c-777f27181807"
      },
      "source": [
        "'''########### Making single predictions ###########'''\n",
        "import numpy as np\n",
        "from keras.preprocessing import image\n",
        "\n",
        "ImagePath='/content/drive/MyDrive/database/test/12.jpg'\n",
        "test_image=image.load_img(ImagePath,target_size=(64, 64))\n",
        "test_image=image.img_to_array(test_image)\n",
        "\n",
        "test_image=np.expand_dims(test_image,axis=0)\n",
        "\n",
        "result=classifier.predict(test_image,verbose=0)\n",
        "#print(training_set.class_indices)\n",
        "\n",
        "print('####'*10)\n",
        "print('Prediction is: ',ResultMap[np.argmax(result)])"
      ],
      "execution_count": null,
      "outputs": [
        {
          "output_type": "stream",
          "text": [
            "########################################\n",
            "Prediction is:  Sathvika\n"
          ],
          "name": "stdout"
        }
      ]
    }
  ]
}
